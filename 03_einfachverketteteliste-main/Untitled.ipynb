{
 "cells": [
  {
   "cell_type": "code",
   "execution_count": 2,
   "id": "172740cb",
   "metadata": {},
   "outputs": [
    {
     "data": {
      "text/plain": [
       "'test 2'"
      ]
     },
     "execution_count": 2,
     "metadata": {},
     "output_type": "execute_result"
    }
   ],
   "source": [
    "class liste():\n",
    "    def __init__(self):\n",
    "        self.head = None\n",
    "\n",
    "class element():\n",
    "    def __init__(self, name, release):\n",
    "        self.name = name\n",
    "        self.release = release\n",
    "        self.next = None\n",
    "        \n",
    "        \n",
    "        \n",
    "lst = liste()\n",
    "lst.head = element('test 1', 1996)\n",
    "lst.head.next = element('test 2', 1998)\n",
    "lst.head.next.name"
   ]
  },
  {
   "cell_type": "code",
   "execution_count": 3,
   "id": "5edceedd",
   "metadata": {},
   "outputs": [
    {
     "data": {
      "text/plain": [
       "'new ele'"
      ]
     },
     "execution_count": 3,
     "metadata": {},
     "output_type": "execute_result"
    }
   ],
   "source": [
    "new_ele = element('new ele', 2000)\n",
    "\n",
    "vari = lst.head.next\n",
    "vari = new_ele\n",
    "\n",
    "vari.name"
   ]
  },
  {
   "cell_type": "code",
   "execution_count": 5,
   "id": "ed320f4c",
   "metadata": {},
   "outputs": [
    {
     "data": {
      "text/plain": [
       "'test 2'"
      ]
     },
     "execution_count": 5,
     "metadata": {},
     "output_type": "execute_result"
    }
   ],
   "source": [
    "lst.head.next.name"
   ]
  },
  {
   "cell_type": "code",
   "execution_count": 7,
   "id": "0229926d",
   "metadata": {},
   "outputs": [
    {
     "data": {
      "text/plain": [
       "'test 2'"
      ]
     },
     "execution_count": 7,
     "metadata": {},
     "output_type": "execute_result"
    }
   ],
   "source": [
    "lst.head.next"
   ]
  },
  {
   "cell_type": "code",
   "execution_count": null,
   "id": "cac4e1c5",
   "metadata": {},
   "outputs": [],
   "source": []
  }
 ],
 "metadata": {
  "kernelspec": {
   "display_name": "Python 3 (ipykernel)",
   "language": "python",
   "name": "python3"
  },
  "language_info": {
   "codemirror_mode": {
    "name": "ipython",
    "version": 3
   },
   "file_extension": ".py",
   "mimetype": "text/x-python",
   "name": "python",
   "nbconvert_exporter": "python",
   "pygments_lexer": "ipython3",
   "version": "3.11.2"
  }
 },
 "nbformat": 4,
 "nbformat_minor": 5
}
