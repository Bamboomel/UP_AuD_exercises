{
 "cells": [
  {
   "cell_type": "code",
   "execution_count": 3,
   "id": "2523c113",
   "metadata": {},
   "outputs": [],
   "source": [
    "n = 15\n",
    "List = []\n",
    "for i in range(20, 2*n+1, 1):\n",
    "    List.append(i)"
   ]
  },
  {
   "cell_type": "code",
   "execution_count": 4,
   "id": "bc0148c5",
   "metadata": {},
   "outputs": [
    {
     "data": {
      "text/plain": [
       "[20, 21, 22, 23, 24, 25, 26, 27, 28, 29, 30]"
      ]
     },
     "execution_count": 4,
     "metadata": {},
     "output_type": "execute_result"
    }
   ],
   "source": [
    "List"
   ]
  },
  {
   "cell_type": "code",
   "execution_count": 6,
   "id": "de4cf279",
   "metadata": {},
   "outputs": [],
   "source": [
    "List2 = [x - 5 for x in List]"
   ]
  },
  {
   "cell_type": "code",
   "execution_count": 7,
   "id": "ae0762ad",
   "metadata": {},
   "outputs": [
    {
     "data": {
      "text/plain": [
       "[15, 16, 17, 18, 19, 20, 21, 22, 23, 24, 25]"
      ]
     },
     "execution_count": 7,
     "metadata": {},
     "output_type": "execute_result"
    }
   ],
   "source": [
    "def func(L, x):\n",
    "\trückgabe_liste = []\n",
    "\t#j = 0\n",
    "\t#while j < 5:\n",
    "\tfor i in range(len(L)):\n",
    "\t\tif (L[i] > x) and (L[1]%2 != 0):\n",
    "\t\t\trückgabe_liste.append(L[i])\n",
    "\t\t\t\t#j += 1\n",
    "\tif len(rückgabe_liste) >= 5:\n",
    "\t\treturn rückgabe_liste[:5]\n",
    "\treturn rückgabe_liste\n",
    "\n",
    "\n",
    "\n",
    "\n",
    "\t\t\n",
    "def main(n):\n",
    "\tL = []\n",
    "\tfor i in range(20, 2 * n + 1, 1):\n",
    "\t\tL.append(i)\n",
    "\tL = [x - 5 for x in L]\n",
    "\n",
    "\t# ungeraden Werte durch Function erhalten\n",
    "\trückgabe_liste = func(L,n)\n",
    "\tprint(rückgabe_liste)\n",
    "\n",
    "\t# erstellen einer Liste für die spätere Ausgabe\n",
    "\tausgabe_liste = []\n",
    "\t# ungeraden Werte in der Liste speichern\n",
    "\tausgabe_liste.append(rückgabe_liste)\n",
    "\n",
    "\t# Ermitteln der Summe aller Werte aus der von func übergebenen Liste\n",
    "\ta = 0\n",
    "\tfor i in range(len(rückgabe_liste)):\n",
    "\t\ta = a + rückgabe_liste[i]\n",
    "\t# Bedingungen aufstellen und entweder True oder False in Liste speichern\n",
    "\tif a > 200:\n",
    "\t\tausgabe_liste.append(True)\n",
    "\telse:\n",
    "\t\tausgabe_liste.append(False)\n",
    "\n",
    "\t# n als Hexadecimal in Liste hinzufügen\n",
    "\tausgabe_liste.append(hex(n))\n",
    "\n",
    "\t# Liste in STring umwandeln\n",
    "\t#ausgabe_string = \"\".join(ausgabe_liste)\n",
    "\n",
    "\treturn ausgabe_liste\n",
    "\treturn ausgabe_string\n",
    "\n",
    "print(main(15))\n",
    "\n"
   ]
  },
  {
   "cell_type": "code",
   "execution_count": 9,
   "id": "28e95131",
   "metadata": {},
   "outputs": [],
   "source": [
    "L = []\n",
    "for i in range(20, 2 * n + 1, 1):\n",
    "    L.append(i)\n",
    "L = [x - 5 for x in L]"
   ]
  },
  {
   "cell_type": "code",
   "execution_count": 16,
   "id": "857385bd",
   "metadata": {},
   "outputs": [
    {
     "data": {
      "text/plain": [
       "[17, 19, 21, 23, 25]"
      ]
     },
     "execution_count": 16,
     "metadata": {},
     "output_type": "execute_result"
    }
   ],
   "source": [
    "x = 15\n",
    "rückgabe_liste = []\n",
    "#j = 0\n",
    "#while j < 5:\n",
    "for i in range(len(L)):\n",
    "    if (L[i] > x) and (L[i]%2 != 0):\n",
    "        rückgabe_liste.append(L[i])\n",
    "        #j += 1\n",
    "\n",
    "rückgabe_liste[:5]\n"
   ]
  },
  {
   "cell_type": "code",
   "execution_count": null,
   "id": "a3ca63a4",
   "metadata": {},
   "outputs": [],
   "source": []
  }
 ],
 "metadata": {
  "kernelspec": {
   "display_name": "Python 3 (ipykernel)",
   "language": "python",
   "name": "python3"
  },
  "language_info": {
   "codemirror_mode": {
    "name": "ipython",
    "version": 3
   },
   "file_extension": ".py",
   "mimetype": "text/x-python",
   "name": "python",
   "nbconvert_exporter": "python",
   "pygments_lexer": "ipython3",
   "version": "3.11.2"
  }
 },
 "nbformat": 4,
 "nbformat_minor": 5
}
