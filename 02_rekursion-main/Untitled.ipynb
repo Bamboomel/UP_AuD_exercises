{
 "cells": [
  {
   "cell_type": "code",
   "execution_count": 30,
   "id": "555fa987",
   "metadata": {},
   "outputs": [],
   "source": [
    "s = \"Hello World\""
   ]
  },
  {
   "cell_type": "code",
   "execution_count": 31,
   "id": "6d8bc96e",
   "metadata": {},
   "outputs": [
    {
     "data": {
      "text/plain": [
       "'ello World'"
      ]
     },
     "execution_count": 31,
     "metadata": {},
     "output_type": "execute_result"
    }
   ],
   "source": [
    "s[1:]"
   ]
  },
  {
   "cell_type": "code",
   "execution_count": 7,
   "id": "5e421c85",
   "metadata": {},
   "outputs": [
    {
     "data": {
      "text/plain": [
       "' '"
      ]
     },
     "execution_count": 7,
     "metadata": {},
     "output_type": "execute_result"
    }
   ],
   "source": [
    "s[5].upper()"
   ]
  },
  {
   "cell_type": "code",
   "execution_count": 8,
   "id": "cfd8eba2",
   "metadata": {},
   "outputs": [],
   "source": [
    "lm = \"\""
   ]
  },
  {
   "cell_type": "code",
   "execution_count": 9,
   "id": "211fd129",
   "metadata": {},
   "outputs": [
    {
     "data": {
      "text/plain": [
       "'Hi'"
      ]
     },
     "execution_count": 9,
     "metadata": {},
     "output_type": "execute_result"
    }
   ],
   "source": [
    "lm += \"Hi\"\n",
    "lm"
   ]
  },
  {
   "cell_type": "code",
   "execution_count": 10,
   "id": "155acf4e",
   "metadata": {},
   "outputs": [
    {
     "data": {
      "text/plain": [
       "11"
      ]
     },
     "execution_count": 10,
     "metadata": {},
     "output_type": "execute_result"
    }
   ],
   "source": [
    "len(s)"
   ]
  },
  {
   "cell_type": "code",
   "execution_count": 11,
   "id": "0ac16296",
   "metadata": {},
   "outputs": [],
   "source": [
    "def transformToUppercase(s):\n",
    "    uppercase = \"\"\n",
    "    for i in range(len(s)):\n",
    "        letter = s[i].upper()\n",
    "        uppercase += letter\n",
    "    return uppercase"
   ]
  },
  {
   "cell_type": "code",
   "execution_count": 103,
   "id": "f2137dd2",
   "metadata": {},
   "outputs": [],
   "source": [
    "s = 78"
   ]
  },
  {
   "cell_type": "code",
   "execution_count": 104,
   "id": "699cb725",
   "metadata": {},
   "outputs": [
    {
     "data": {
      "text/plain": [
       "int"
      ]
     },
     "execution_count": 104,
     "metadata": {},
     "output_type": "execute_result"
    }
   ],
   "source": [
    "type(s)"
   ]
  },
  {
   "cell_type": "code",
   "execution_count": 107,
   "id": "2d84683c",
   "metadata": {},
   "outputs": [],
   "source": [
    "def transformToUppercase(s):\n",
    "    if type(s) != str:\n",
    "        return\n",
    "    \n",
    "    if len(s) == 0:\n",
    "        return ''\n",
    "    \n",
    "    upper = transformToUppercase(s[1:])\n",
    "    upper = s[0].upper() + upper\n",
    "        \n",
    "    return upper"
   ]
  },
  {
   "cell_type": "code",
   "execution_count": 108,
   "id": "fff61272",
   "metadata": {},
   "outputs": [],
   "source": [
    "transformToUppercase(s)"
   ]
  },
  {
   "cell_type": "code",
   "execution_count": null,
   "id": "ff7fa309",
   "metadata": {},
   "outputs": [],
   "source": []
  }
 ],
 "metadata": {
  "kernelspec": {
   "display_name": "Python 3 (ipykernel)",
   "language": "python",
   "name": "python3"
  },
  "language_info": {
   "codemirror_mode": {
    "name": "ipython",
    "version": 3
   },
   "file_extension": ".py",
   "mimetype": "text/x-python",
   "name": "python",
   "nbconvert_exporter": "python",
   "pygments_lexer": "ipython3",
   "version": "3.11.2"
  }
 },
 "nbformat": 4,
 "nbformat_minor": 5
}
